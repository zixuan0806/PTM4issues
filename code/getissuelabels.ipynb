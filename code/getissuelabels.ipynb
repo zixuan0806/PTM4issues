{
 "cells": [
  {
   "cell_type": "code",
   "execution_count": 1,
   "id": "a8112dd1-5f4f-47d6-8db2-37b23786ff5d",
   "metadata": {},
   "outputs": [],
   "source": [
    "import json\n",
    "import os\n",
    "import pandas as pd"
   ]
  },
  {
   "cell_type": "code",
   "execution_count": 2,
   "id": "18a2fd76-7536-467f-b5ad-0d093726a4bb",
   "metadata": {},
   "outputs": [],
   "source": [
    "def get_repo(path):\n",
    "    df = pd.read_excel(path)\n",
    "    return df[[\"full_name\"]]"
   ]
  },
  {
   "cell_type": "code",
   "execution_count": 3,
   "id": "e06cc741-419a-44c8-aca9-bf8bdb27a4d2",
   "metadata": {},
   "outputs": [
    {
     "data": {
      "text/html": [
       "<div>\n",
       "<style scoped>\n",
       "    .dataframe tbody tr th:only-of-type {\n",
       "        vertical-align: middle;\n",
       "    }\n",
       "\n",
       "    .dataframe tbody tr th {\n",
       "        vertical-align: top;\n",
       "    }\n",
       "\n",
       "    .dataframe thead th {\n",
       "        text-align: right;\n",
       "    }\n",
       "</style>\n",
       "<table border=\"1\" class=\"dataframe\">\n",
       "  <thead>\n",
       "    <tr style=\"text-align: right;\">\n",
       "      <th></th>\n",
       "      <th>full_name</th>\n",
       "    </tr>\n",
       "  </thead>\n",
       "  <tbody>\n",
       "    <tr>\n",
       "      <th>0</th>\n",
       "      <td>deepfakes/faceswap</td>\n",
       "    </tr>\n",
       "    <tr>\n",
       "      <th>1</th>\n",
       "      <td>iperov/DeepFaceLab</td>\n",
       "    </tr>\n",
       "    <tr>\n",
       "      <th>2</th>\n",
       "      <td>ultralytics/yolov5</td>\n",
       "    </tr>\n",
       "    <tr>\n",
       "      <th>3</th>\n",
       "      <td>deezer/spleeter</td>\n",
       "    </tr>\n",
       "    <tr>\n",
       "      <th>4</th>\n",
       "      <td>photoprism/photoprism</td>\n",
       "    </tr>\n",
       "    <tr>\n",
       "      <th>...</th>\n",
       "      <td>...</td>\n",
       "    </tr>\n",
       "    <tr>\n",
       "      <th>82</th>\n",
       "      <td>chainer/chainercv</td>\n",
       "    </tr>\n",
       "    <tr>\n",
       "      <th>83</th>\n",
       "      <td>RosettaCommons/RoseTTAFold</td>\n",
       "    </tr>\n",
       "    <tr>\n",
       "      <th>84</th>\n",
       "      <td>D-X-Y/AutoDL-Projects</td>\n",
       "    </tr>\n",
       "    <tr>\n",
       "      <th>85</th>\n",
       "      <td>DLTK/DLTK</td>\n",
       "    </tr>\n",
       "    <tr>\n",
       "      <th>86</th>\n",
       "      <td>MLReef/mlreef</td>\n",
       "    </tr>\n",
       "  </tbody>\n",
       "</table>\n",
       "<p>87 rows × 1 columns</p>\n",
       "</div>"
      ],
      "text/plain": [
       "                     full_name\n",
       "0           deepfakes/faceswap\n",
       "1           iperov/DeepFaceLab\n",
       "2           ultralytics/yolov5\n",
       "3              deezer/spleeter\n",
       "4        photoprism/photoprism\n",
       "..                         ...\n",
       "82           chainer/chainercv\n",
       "83  RosettaCommons/RoseTTAFold\n",
       "84       D-X-Y/AutoDL-Projects\n",
       "85                   DLTK/DLTK\n",
       "86               MLReef/mlreef\n",
       "\n",
       "[87 rows x 1 columns]"
      ]
     },
     "execution_count": 3,
     "metadata": {},
     "output_type": "execute_result"
    }
   ],
   "source": [
    "repo = get_repo(\"./issue_data/combine1_TF_software.xlsx\")\n",
    "repo"
   ]
  },
  {
   "cell_type": "code",
   "execution_count": 4,
   "id": "9c6ddd7c-5cab-43c2-93f2-dfa161408847",
   "metadata": {},
   "outputs": [],
   "source": [
    "def make_repo_dirs(project_path, dir_name ,repo_name):\n",
    "    # create issues directory\n",
    "    dir_path = os.path.join(project_path, dir_name)\n",
    "    if not os.path.exists(dir_path):\n",
    "        os.mkdir(dir_path)\n",
    "\n",
    "    # create repo directory\n",
    "    repo_dir_path = os.path.join(dir_path, repo_name)\n",
    "    if not os.path.exists(repo_dir_path):\n",
    "        os.mkdir(repo_dir_path)\n",
    "    \n",
    "    return repo_dir_path"
   ]
  },
  {
   "cell_type": "code",
   "execution_count": 96,
   "id": "c6f22115-4970-4b62-8062-13d34ae49a37",
   "metadata": {
    "scrolled": true,
    "tags": []
   },
   "outputs": [
    {
     "data": {
      "text/plain": [
       "301"
      ]
     },
     "execution_count": 96,
     "metadata": {},
     "output_type": "execute_result"
    },
    {
     "data": {
      "text/plain": [
       "98"
      ]
     },
     "execution_count": 96,
     "metadata": {},
     "output_type": "execute_result"
    },
    {
     "data": {
      "text/plain": [
       "196"
      ]
     },
     "execution_count": 96,
     "metadata": {},
     "output_type": "execute_result"
    },
    {
     "data": {
      "text/plain": [
       "452"
      ]
     },
     "execution_count": 96,
     "metadata": {},
     "output_type": "execute_result"
    },
    {
     "data": {
      "text/plain": [
       "377"
      ]
     },
     "execution_count": 96,
     "metadata": {},
     "output_type": "execute_result"
    },
    {
     "data": {
      "text/plain": [
       "166"
      ]
     },
     "execution_count": 96,
     "metadata": {},
     "output_type": "execute_result"
    },
    {
     "data": {
      "text/plain": [
       "790"
      ]
     },
     "execution_count": 96,
     "metadata": {},
     "output_type": "execute_result"
    },
    {
     "data": {
      "text/plain": [
       "944"
      ]
     },
     "execution_count": 96,
     "metadata": {},
     "output_type": "execute_result"
    },
    {
     "data": {
      "text/plain": [
       "146"
      ]
     },
     "execution_count": 96,
     "metadata": {},
     "output_type": "execute_result"
    },
    {
     "data": {
      "text/plain": [
       "1428"
      ]
     },
     "execution_count": 96,
     "metadata": {},
     "output_type": "execute_result"
    },
    {
     "data": {
      "text/plain": [
       "502"
      ]
     },
     "execution_count": 96,
     "metadata": {},
     "output_type": "execute_result"
    },
    {
     "data": {
      "text/plain": [
       "241"
      ]
     },
     "execution_count": 96,
     "metadata": {},
     "output_type": "execute_result"
    },
    {
     "data": {
      "text/plain": [
       "457"
      ]
     },
     "execution_count": 96,
     "metadata": {},
     "output_type": "execute_result"
    },
    {
     "data": {
      "text/plain": [
       "928"
      ]
     },
     "execution_count": 96,
     "metadata": {},
     "output_type": "execute_result"
    },
    {
     "data": {
      "text/plain": [
       "1564"
      ]
     },
     "execution_count": 96,
     "metadata": {},
     "output_type": "execute_result"
    },
    {
     "data": {
      "text/plain": [
       "107"
      ]
     },
     "execution_count": 96,
     "metadata": {},
     "output_type": "execute_result"
    },
    {
     "data": {
      "text/plain": [
       "213"
      ]
     },
     "execution_count": 96,
     "metadata": {},
     "output_type": "execute_result"
    },
    {
     "data": {
      "text/plain": [
       "262"
      ]
     },
     "execution_count": 96,
     "metadata": {},
     "output_type": "execute_result"
    },
    {
     "data": {
      "text/plain": [
       "232"
      ]
     },
     "execution_count": 96,
     "metadata": {},
     "output_type": "execute_result"
    },
    {
     "data": {
      "text/plain": [
       "464"
      ]
     },
     "execution_count": 96,
     "metadata": {},
     "output_type": "execute_result"
    },
    {
     "data": {
      "text/plain": [
       "109"
      ]
     },
     "execution_count": 96,
     "metadata": {},
     "output_type": "execute_result"
    },
    {
     "data": {
      "text/plain": [
       "329"
      ]
     },
     "execution_count": 96,
     "metadata": {},
     "output_type": "execute_result"
    },
    {
     "data": {
      "text/plain": [
       "174"
      ]
     },
     "execution_count": 96,
     "metadata": {},
     "output_type": "execute_result"
    },
    {
     "data": {
      "text/plain": [
       "141"
      ]
     },
     "execution_count": 96,
     "metadata": {},
     "output_type": "execute_result"
    },
    {
     "data": {
      "text/plain": [
       "112"
      ]
     },
     "execution_count": 96,
     "metadata": {},
     "output_type": "execute_result"
    },
    {
     "data": {
      "text/plain": [
       "91"
      ]
     },
     "execution_count": 96,
     "metadata": {},
     "output_type": "execute_result"
    },
    {
     "data": {
      "text/plain": [
       "195"
      ]
     },
     "execution_count": 96,
     "metadata": {},
     "output_type": "execute_result"
    },
    {
     "data": {
      "text/plain": [
       "194"
      ]
     },
     "execution_count": 96,
     "metadata": {},
     "output_type": "execute_result"
    },
    {
     "data": {
      "text/plain": [
       "206"
      ]
     },
     "execution_count": 96,
     "metadata": {},
     "output_type": "execute_result"
    },
    {
     "data": {
      "text/plain": [
       "165"
      ]
     },
     "execution_count": 96,
     "metadata": {},
     "output_type": "execute_result"
    },
    {
     "data": {
      "text/plain": [
       "400"
      ]
     },
     "execution_count": 96,
     "metadata": {},
     "output_type": "execute_result"
    },
    {
     "data": {
      "text/plain": [
       "101"
      ]
     },
     "execution_count": 96,
     "metadata": {},
     "output_type": "execute_result"
    },
    {
     "data": {
      "text/plain": [
       "105"
      ]
     },
     "execution_count": 96,
     "metadata": {},
     "output_type": "execute_result"
    },
    {
     "data": {
      "text/plain": [
       "187"
      ]
     },
     "execution_count": 96,
     "metadata": {},
     "output_type": "execute_result"
    },
    {
     "data": {
      "text/plain": [
       "110"
      ]
     },
     "execution_count": 96,
     "metadata": {},
     "output_type": "execute_result"
    },
    {
     "data": {
      "text/plain": [
       "139"
      ]
     },
     "execution_count": 96,
     "metadata": {},
     "output_type": "execute_result"
    },
    {
     "data": {
      "text/plain": [
       "127"
      ]
     },
     "execution_count": 96,
     "metadata": {},
     "output_type": "execute_result"
    },
    {
     "data": {
      "text/plain": [
       "185"
      ]
     },
     "execution_count": 96,
     "metadata": {},
     "output_type": "execute_result"
    },
    {
     "data": {
      "text/plain": [
       "1439"
      ]
     },
     "execution_count": 96,
     "metadata": {},
     "output_type": "execute_result"
    },
    {
     "data": {
      "text/plain": [
       "154"
      ]
     },
     "execution_count": 96,
     "metadata": {},
     "output_type": "execute_result"
    },
    {
     "data": {
      "text/plain": [
       "530"
      ]
     },
     "execution_count": 96,
     "metadata": {},
     "output_type": "execute_result"
    },
    {
     "data": {
      "text/plain": [
       "99"
      ]
     },
     "execution_count": 96,
     "metadata": {},
     "output_type": "execute_result"
    },
    {
     "data": {
      "text/plain": [
       "106"
      ]
     },
     "execution_count": 96,
     "metadata": {},
     "output_type": "execute_result"
    },
    {
     "data": {
      "text/plain": [
       "102"
      ]
     },
     "execution_count": 96,
     "metadata": {},
     "output_type": "execute_result"
    },
    {
     "data": {
      "text/plain": [
       "114"
      ]
     },
     "execution_count": 96,
     "metadata": {},
     "output_type": "execute_result"
    },
    {
     "data": {
      "text/plain": [
       "129"
      ]
     },
     "execution_count": 96,
     "metadata": {},
     "output_type": "execute_result"
    },
    {
     "data": {
      "text/plain": [
       "192"
      ]
     },
     "execution_count": 96,
     "metadata": {},
     "output_type": "execute_result"
    },
    {
     "data": {
      "text/plain": [
       "263"
      ]
     },
     "execution_count": 96,
     "metadata": {},
     "output_type": "execute_result"
    },
    {
     "data": {
      "text/plain": [
       "359"
      ]
     },
     "execution_count": 96,
     "metadata": {},
     "output_type": "execute_result"
    },
    {
     "data": {
      "text/plain": [
       "248"
      ]
     },
     "execution_count": 96,
     "metadata": {},
     "output_type": "execute_result"
    },
    {
     "data": {
      "text/plain": [
       "202"
      ]
     },
     "execution_count": 96,
     "metadata": {},
     "output_type": "execute_result"
    },
    {
     "data": {
      "text/plain": [
       "259"
      ]
     },
     "execution_count": 96,
     "metadata": {},
     "output_type": "execute_result"
    },
    {
     "data": {
      "text/plain": [
       "142"
      ]
     },
     "execution_count": 96,
     "metadata": {},
     "output_type": "execute_result"
    },
    {
     "data": {
      "text/plain": [
       "99"
      ]
     },
     "execution_count": 96,
     "metadata": {},
     "output_type": "execute_result"
    },
    {
     "data": {
      "text/plain": [
       "603"
      ]
     },
     "execution_count": 96,
     "metadata": {},
     "output_type": "execute_result"
    },
    {
     "data": {
      "text/plain": [
       "134"
      ]
     },
     "execution_count": 96,
     "metadata": {},
     "output_type": "execute_result"
    },
    {
     "data": {
      "text/plain": [
       "144"
      ]
     },
     "execution_count": 96,
     "metadata": {},
     "output_type": "execute_result"
    },
    {
     "data": {
      "text/plain": [
       "208"
      ]
     },
     "execution_count": 96,
     "metadata": {},
     "output_type": "execute_result"
    },
    {
     "data": {
      "text/plain": [
       "246"
      ]
     },
     "execution_count": 96,
     "metadata": {},
     "output_type": "execute_result"
    },
    {
     "data": {
      "text/plain": [
       "102"
      ]
     },
     "execution_count": 96,
     "metadata": {},
     "output_type": "execute_result"
    },
    {
     "data": {
      "text/plain": [
       "106"
      ]
     },
     "execution_count": 96,
     "metadata": {},
     "output_type": "execute_result"
    },
    {
     "data": {
      "text/plain": [
       "122"
      ]
     },
     "execution_count": 96,
     "metadata": {},
     "output_type": "execute_result"
    },
    {
     "data": {
      "text/plain": [
       "131"
      ]
     },
     "execution_count": 96,
     "metadata": {},
     "output_type": "execute_result"
    },
    {
     "data": {
      "text/plain": [
       "99"
      ]
     },
     "execution_count": 96,
     "metadata": {},
     "output_type": "execute_result"
    },
    {
     "data": {
      "text/plain": [
       "122"
      ]
     },
     "execution_count": 96,
     "metadata": {},
     "output_type": "execute_result"
    },
    {
     "data": {
      "text/plain": [
       "116"
      ]
     },
     "execution_count": 96,
     "metadata": {},
     "output_type": "execute_result"
    },
    {
     "data": {
      "text/plain": [
       "130"
      ]
     },
     "execution_count": 96,
     "metadata": {},
     "output_type": "execute_result"
    },
    {
     "data": {
      "text/plain": [
       "119"
      ]
     },
     "execution_count": 96,
     "metadata": {},
     "output_type": "execute_result"
    },
    {
     "data": {
      "text/plain": [
       "97"
      ]
     },
     "execution_count": 96,
     "metadata": {},
     "output_type": "execute_result"
    },
    {
     "data": {
      "text/plain": [
       "95"
      ]
     },
     "execution_count": 96,
     "metadata": {},
     "output_type": "execute_result"
    },
    {
     "data": {
      "text/plain": [
       "116"
      ]
     },
     "execution_count": 96,
     "metadata": {},
     "output_type": "execute_result"
    },
    {
     "data": {
      "text/plain": [
       "98"
      ]
     },
     "execution_count": 96,
     "metadata": {},
     "output_type": "execute_result"
    },
    {
     "data": {
      "text/plain": [
       "111"
      ]
     },
     "execution_count": 96,
     "metadata": {},
     "output_type": "execute_result"
    },
    {
     "data": {
      "text/plain": [
       "139"
      ]
     },
     "execution_count": 96,
     "metadata": {},
     "output_type": "execute_result"
    },
    {
     "data": {
      "text/plain": [
       "113"
      ]
     },
     "execution_count": 96,
     "metadata": {},
     "output_type": "execute_result"
    },
    {
     "data": {
      "text/plain": [
       "156"
      ]
     },
     "execution_count": 96,
     "metadata": {},
     "output_type": "execute_result"
    },
    {
     "data": {
      "text/plain": [
       "99"
      ]
     },
     "execution_count": 96,
     "metadata": {},
     "output_type": "execute_result"
    },
    {
     "data": {
      "text/plain": [
       "99"
      ]
     },
     "execution_count": 96,
     "metadata": {},
     "output_type": "execute_result"
    },
    {
     "data": {
      "text/plain": [
       "123"
      ]
     },
     "execution_count": 96,
     "metadata": {},
     "output_type": "execute_result"
    },
    {
     "data": {
      "text/plain": [
       "119"
      ]
     },
     "execution_count": 96,
     "metadata": {},
     "output_type": "execute_result"
    },
    {
     "data": {
      "text/plain": [
       "99"
      ]
     },
     "execution_count": 96,
     "metadata": {},
     "output_type": "execute_result"
    },
    {
     "data": {
      "text/plain": [
       "218"
      ]
     },
     "execution_count": 96,
     "metadata": {},
     "output_type": "execute_result"
    },
    {
     "data": {
      "text/plain": [
       "205"
      ]
     },
     "execution_count": 96,
     "metadata": {},
     "output_type": "execute_result"
    },
    {
     "data": {
      "text/plain": [
       "105"
      ]
     },
     "execution_count": 96,
     "metadata": {},
     "output_type": "execute_result"
    },
    {
     "data": {
      "text/plain": [
       "133"
      ]
     },
     "execution_count": 96,
     "metadata": {},
     "output_type": "execute_result"
    },
    {
     "data": {
      "text/plain": [
       "105"
      ]
     },
     "execution_count": 96,
     "metadata": {},
     "output_type": "execute_result"
    },
    {
     "data": {
      "text/plain": [
       "91"
      ]
     },
     "execution_count": 96,
     "metadata": {},
     "output_type": "execute_result"
    }
   ],
   "source": [
    "project_path = \"./issue_data\" \n",
    "issue_path = os.path.join(project_path, \"issues\")       \n",
    "\n",
    "label_str = []\n",
    "issue_with_label_list = []\n",
    "issue_count_list = []\n",
    "\n",
    "\n",
    "for i in range(len(repo)):\n",
    "    repo_name = repo.iat[i, 0]\n",
    "    \n",
    "    # generate repo dir\n",
    "    repo_dir_path = os.path.join(issue_path, repo_name.split(r'/')[1])\n",
    "    \n",
    "    repo_labels = set() # use set to remove duplicate label\n",
    "    \n",
    "    # count the number of issues with label\n",
    "    issue_with_label = 0\n",
    "    issue_count = 0\n",
    "    \n",
    "    all_files = list(os.listdir(repo_dir_path))\n",
    "    all_files.sort(key=lambda x: int(x.split(r'.')[0]))\n",
    "    \n",
    "    for file in all_files:\n",
    "        with open(os.path.join(repo_dir_path, file), 'r') as f:\n",
    "            dic = json.load(f)\n",
    "    \n",
    "            # traverse all issues\n",
    "            for item in dic[\"items\"]:\n",
    "                issue_labels = item.get(\"labels\")\n",
    "                \n",
    "                if len(issue_labels) == 0:\n",
    "                    pass\n",
    "                else:\n",
    "                    issue_with_label += 1\n",
    "                    for label in issue_labels:\n",
    "                        repo_labels.add(label.get(\"name\"))\n",
    "                    \n",
    "                issue_count += 1\n",
    "    \n",
    "    label_str.append(\"、\".join(list(repo_labels)))\n",
    "    issue_with_label_list.append(issue_with_label)\n",
    "    issue_count_list.append(issue_count)\n",
    "    \n",
    "            \n",
    "    # save issue with comments to new dirs\n",
    "    new_repo_dir_path = make_repo_dirs(project_path, \"issue_labels\", repo_name.split(r'/')[1])\n",
    "    with open(os.path.join(new_repo_dir_path, \"labels.json\"), \"w\") as w:\n",
    "        w.write(json.dumps({\n",
    "            \"full_name\" : repo_name,\n",
    "            \"issue_labels\" : list(repo_labels),\n",
    "            \"issue_count\": issue_count,\n",
    "            \"issue_with_label\" : issue_with_label,\n",
    "        }))"
   ]
  },
  {
   "cell_type": "code",
   "execution_count": 97,
   "id": "408c0bf8-5449-42a2-bda8-61fb54704968",
   "metadata": {},
   "outputs": [],
   "source": [
    "repo_label = repo.copy()"
   ]
  },
  {
   "cell_type": "code",
   "execution_count": null,
   "id": "3608174d-f729-4655-af21-fdd819d9d512",
   "metadata": {},
   "outputs": [],
   "source": [
    "repo_label[\"labels\"] = label_str\n",
    "repo_label[\"issue_with_label\"] = issue_with_label_list\n",
    "repo_label[\"issue_count\"] = issue_count_list"
   ]
  },
  {
   "cell_type": "code",
   "execution_count": null,
   "id": "2ac1a660-470c-4967-9cc6-6092be5c5b41",
   "metadata": {},
   "outputs": [],
   "source": [
    "repo_label.to_excel(\"repo_labels_comparsion.xlsx\", index=False)"
   ]
  },
  {
   "cell_type": "code",
   "execution_count": null,
   "id": "449c4f3b-f5f2-4242-82cd-eb4d8b5cf899",
   "metadata": {},
   "outputs": [],
   "source": []
  },
  {
   "cell_type": "code",
   "execution_count": null,
   "id": "c3a9272f-a06e-4e09-955c-f20b045ff3b9",
   "metadata": {},
   "outputs": [],
   "source": []
  },
  {
   "cell_type": "markdown",
   "id": "680983cc-4f37-4a71-8a6a-fe722c14d538",
   "metadata": {},
   "source": []
  },
  {
   "cell_type": "code",
   "execution_count": 5,
   "id": "6b7b65fd-5806-4ec1-b977-b0e49ed75c1e",
   "metadata": {
    "scrolled": true,
    "tags": []
   },
   "outputs": [],
   "source": [
    "project_path = \"./issue_data\"\n",
    "issue_path = os.path.join(project_path, \"issues\")       \n",
    "\n",
    "label_dict = {}\n",
    "# count the number of issues with label\n",
    "issue_with_label = 0\n",
    "issue_count = 0\n",
    "\n",
    "for i in range(len(repo)):\n",
    "    repo_name = repo.iat[i, 0]\n",
    "    \n",
    "    # generate repo dir\n",
    "    repo_dir_path = os.path.join(issue_path, repo_name.split(r'/')[1])\n",
    "    \n",
    "    all_files = list(os.listdir(repo_dir_path))\n",
    "    all_files.sort(key=lambda x: int(x.split(r'.')[0]))\n",
    "    \n",
    "    for file in all_files:\n",
    "        with open(os.path.join(repo_dir_path, file), 'r') as f:\n",
    "            dic = json.load(f)\n",
    "    \n",
    "            # traverse all issues\n",
    "            for item in dic[\"items\"]:\n",
    "                issue_labels = item.get(\"labels\")\n",
    "                \n",
    "                if len(issue_labels) == 0:\n",
    "                    pass\n",
    "                else:\n",
    "                    issue_with_label += 1\n",
    "                    for label in issue_labels:\n",
    "                        name = label.get(\"name\")\n",
    "                        if name not in label_dict: # meet label in the first time\n",
    "                            label_dict[name] = {\n",
    "                                \"count\": 1,\n",
    "                                \"rel_repo\" : {repo_name}\n",
    "                            }\n",
    "                        else:\n",
    "                            label_dict[name][\"count\"] = label_dict[name][\"count\"] + 1\n",
    "                            label_dict[name][\"rel_repo\"].add(repo_name)\n",
    "                        \n",
    "                issue_count += 1\n",
    "    \n",
    "    \n",
    "for key in label_dict.keys():\n",
    "    label_dict[key][\"rel_repo\"] = list(label_dict[key][\"rel_repo\"])\n",
    "    \n",
    "\n",
    "# with open(\"test.json\", \"w\") as w:\n",
    "#     w.write(json.dumps(label_dict))\n",
    "#     # save issue with comments to new dirs\n",
    "#     new_repo_dir_path = make_repo_dirs(project_path, \"issue_labels\", repo_name.split(r'/')[1])\n",
    "#     with open(os.path.join(new_repo_dir_path, \"labels.json\"), \"w\") as w:\n",
    "#         w.write(json.dumps({\n",
    "#             \"full_name\" : repo_name,\n",
    "#             \"issue_labels\" : label_dict,\n",
    "#             \"issue_count\": issue_count,\n",
    "#             \"issue_with_label\" : issue_with_label,\n",
    "#         }))"
   ]
  },
  {
   "cell_type": "code",
   "execution_count": 6,
   "id": "ac4c046a-fa67-49b3-a3b5-d194541d00e8",
   "metadata": {},
   "outputs": [
    {
     "data": {
      "text/html": [
       "<div>\n",
       "<style scoped>\n",
       "    .dataframe tbody tr th:only-of-type {\n",
       "        vertical-align: middle;\n",
       "    }\n",
       "\n",
       "    .dataframe tbody tr th {\n",
       "        vertical-align: top;\n",
       "    }\n",
       "\n",
       "    .dataframe thead th {\n",
       "        text-align: right;\n",
       "    }\n",
       "</style>\n",
       "<table border=\"1\" class=\"dataframe\">\n",
       "  <thead>\n",
       "    <tr style=\"text-align: right;\">\n",
       "      <th></th>\n",
       "      <th>feature</th>\n",
       "      <th>bug</th>\n",
       "      <th>AMD</th>\n",
       "      <th>code to integrate</th>\n",
       "      <th>feedback wanted</th>\n",
       "      <th>enhancement</th>\n",
       "      <th>test needed</th>\n",
       "      <th>question</th>\n",
       "      <th>help wanted</th>\n",
       "      <th>wontfix</th>\n",
       "      <th>...</th>\n",
       "      <th>Deltann</th>\n",
       "      <th>Serving</th>\n",
       "      <th>Dpl</th>\n",
       "      <th>Doc</th>\n",
       "      <th>CI</th>\n",
       "      <th>TF2.x</th>\n",
       "      <th>Bug</th>\n",
       "      <th>Egs</th>\n",
       "      <th>document</th>\n",
       "      <th>no-compat</th>\n",
       "    </tr>\n",
       "  </thead>\n",
       "  <tbody>\n",
       "    <tr>\n",
       "      <th>count</th>\n",
       "      <td>301</td>\n",
       "      <td>4469</td>\n",
       "      <td>1</td>\n",
       "      <td>6</td>\n",
       "      <td>8</td>\n",
       "      <td>1612</td>\n",
       "      <td>1</td>\n",
       "      <td>6607</td>\n",
       "      <td>307</td>\n",
       "      <td>1065</td>\n",
       "      <td>...</td>\n",
       "      <td>9</td>\n",
       "      <td>2</td>\n",
       "      <td>3</td>\n",
       "      <td>8</td>\n",
       "      <td>8</td>\n",
       "      <td>3</td>\n",
       "      <td>10</td>\n",
       "      <td>4</td>\n",
       "      <td>3</td>\n",
       "      <td>1</td>\n",
       "    </tr>\n",
       "    <tr>\n",
       "      <th>rel_repo</th>\n",
       "      <td>[chainer/chainercv, apple/turicreate, deezer/s...</td>\n",
       "      <td>[allegroai/clearml, slundberg/shap, streamlit/...</td>\n",
       "      <td>[deepfakes/faceswap]</td>\n",
       "      <td>[deepfakes/faceswap]</td>\n",
       "      <td>[deepfakes/faceswap]</td>\n",
       "      <td>[allegroai/clearml, streamlit/streamlit, tenso...</td>\n",
       "      <td>[deepfakes/faceswap]</td>\n",
       "      <td>[streamlit/streamlit, tensorflow/probability, ...</td>\n",
       "      <td>[slundberg/shap, tensorflow/probability, micro...</td>\n",
       "      <td>[NVIDIA/TensorRT, keras-team/autokeras, apple/...</td>\n",
       "      <td>...</td>\n",
       "      <td>[Delta-ML/delta]</td>\n",
       "      <td>[Delta-ML/delta]</td>\n",
       "      <td>[Delta-ML/delta]</td>\n",
       "      <td>[Delta-ML/delta]</td>\n",
       "      <td>[Delta-ML/delta]</td>\n",
       "      <td>[Delta-ML/delta]</td>\n",
       "      <td>[Delta-ML/delta]</td>\n",
       "      <td>[Delta-ML/delta]</td>\n",
       "      <td>[chainer/chainercv]</td>\n",
       "      <td>[chainer/chainercv]</td>\n",
       "    </tr>\n",
       "  </tbody>\n",
       "</table>\n",
       "<p>2 rows × 622 columns</p>\n",
       "</div>"
      ],
      "text/plain": [
       "                                                    feature  \\\n",
       "count                                                   301   \n",
       "rel_repo  [chainer/chainercv, apple/turicreate, deezer/s...   \n",
       "\n",
       "                                                        bug  \\\n",
       "count                                                  4469   \n",
       "rel_repo  [allegroai/clearml, slundberg/shap, streamlit/...   \n",
       "\n",
       "                           AMD     code to integrate       feedback wanted  \\\n",
       "count                        1                     6                     8   \n",
       "rel_repo  [deepfakes/faceswap]  [deepfakes/faceswap]  [deepfakes/faceswap]   \n",
       "\n",
       "                                                enhancement  \\\n",
       "count                                                  1612   \n",
       "rel_repo  [allegroai/clearml, streamlit/streamlit, tenso...   \n",
       "\n",
       "                   test needed  \\\n",
       "count                        1   \n",
       "rel_repo  [deepfakes/faceswap]   \n",
       "\n",
       "                                                   question  \\\n",
       "count                                                  6607   \n",
       "rel_repo  [streamlit/streamlit, tensorflow/probability, ...   \n",
       "\n",
       "                                                help wanted  \\\n",
       "count                                                   307   \n",
       "rel_repo  [slundberg/shap, tensorflow/probability, micro...   \n",
       "\n",
       "                                                    wontfix  ...  \\\n",
       "count                                                  1065  ...   \n",
       "rel_repo  [NVIDIA/TensorRT, keras-team/autokeras, apple/...  ...   \n",
       "\n",
       "                   Deltann           Serving               Dpl  \\\n",
       "count                    9                 2                 3   \n",
       "rel_repo  [Delta-ML/delta]  [Delta-ML/delta]  [Delta-ML/delta]   \n",
       "\n",
       "                       Doc                CI             TF2.x  \\\n",
       "count                    8                 8                 3   \n",
       "rel_repo  [Delta-ML/delta]  [Delta-ML/delta]  [Delta-ML/delta]   \n",
       "\n",
       "                       Bug               Egs             document  \\\n",
       "count                   10                 4                    3   \n",
       "rel_repo  [Delta-ML/delta]  [Delta-ML/delta]  [chainer/chainercv]   \n",
       "\n",
       "                    no-compat  \n",
       "count                       1  \n",
       "rel_repo  [chainer/chainercv]  \n",
       "\n",
       "[2 rows x 622 columns]"
      ]
     },
     "execution_count": 6,
     "metadata": {},
     "output_type": "execute_result"
    }
   ],
   "source": [
    "df = pd.DataFrame(label_dict)\n",
    "df\n",
    "df = df.T"
   ]
  },
  {
   "cell_type": "code",
   "execution_count": 102,
   "id": "400f4a0e-221d-4e7f-8eae-7f2b50cc79b1",
   "metadata": {},
   "outputs": [
    {
     "data": {
      "text/html": [
       "<div>\n",
       "<style scoped>\n",
       "    .dataframe tbody tr th:only-of-type {\n",
       "        vertical-align: middle;\n",
       "    }\n",
       "\n",
       "    .dataframe tbody tr th {\n",
       "        vertical-align: top;\n",
       "    }\n",
       "\n",
       "    .dataframe thead th {\n",
       "        text-align: right;\n",
       "    }\n",
       "</style>\n",
       "<table border=\"1\" class=\"dataframe\">\n",
       "  <thead>\n",
       "    <tr style=\"text-align: right;\">\n",
       "      <th></th>\n",
       "      <th>count</th>\n",
       "      <th>rel_repo</th>\n",
       "    </tr>\n",
       "  </thead>\n",
       "  <tbody>\n",
       "    <tr>\n",
       "      <th>feature</th>\n",
       "      <td>301</td>\n",
       "      <td>[chainer/chainercv, isl-org/OpenBot, deepfakes...</td>\n",
       "    </tr>\n",
       "    <tr>\n",
       "      <th>bug</th>\n",
       "      <td>4469</td>\n",
       "      <td>[deepmipt/DeepPavlov, tflearn/tflearn, MrNothi...</td>\n",
       "    </tr>\n",
       "    <tr>\n",
       "      <th>AMD</th>\n",
       "      <td>1</td>\n",
       "      <td>[deepfakes/faceswap]</td>\n",
       "    </tr>\n",
       "    <tr>\n",
       "      <th>code to integrate</th>\n",
       "      <td>6</td>\n",
       "      <td>[deepfakes/faceswap]</td>\n",
       "    </tr>\n",
       "    <tr>\n",
       "      <th>feedback wanted</th>\n",
       "      <td>8</td>\n",
       "      <td>[deepfakes/faceswap]</td>\n",
       "    </tr>\n",
       "    <tr>\n",
       "      <th>...</th>\n",
       "      <td>...</td>\n",
       "      <td>...</td>\n",
       "    </tr>\n",
       "    <tr>\n",
       "      <th>TF2.x</th>\n",
       "      <td>3</td>\n",
       "      <td>[Delta-ML/delta]</td>\n",
       "    </tr>\n",
       "    <tr>\n",
       "      <th>Bug</th>\n",
       "      <td>10</td>\n",
       "      <td>[Delta-ML/delta]</td>\n",
       "    </tr>\n",
       "    <tr>\n",
       "      <th>Egs</th>\n",
       "      <td>4</td>\n",
       "      <td>[Delta-ML/delta]</td>\n",
       "    </tr>\n",
       "    <tr>\n",
       "      <th>document</th>\n",
       "      <td>3</td>\n",
       "      <td>[chainer/chainercv]</td>\n",
       "    </tr>\n",
       "    <tr>\n",
       "      <th>no-compat</th>\n",
       "      <td>1</td>\n",
       "      <td>[chainer/chainercv]</td>\n",
       "    </tr>\n",
       "  </tbody>\n",
       "</table>\n",
       "<p>622 rows × 2 columns</p>\n",
       "</div>"
      ],
      "text/plain": [
       "                  count                                           rel_repo\n",
       "feature             301  [chainer/chainercv, isl-org/OpenBot, deepfakes...\n",
       "bug                4469  [deepmipt/DeepPavlov, tflearn/tflearn, MrNothi...\n",
       "AMD                   1                               [deepfakes/faceswap]\n",
       "code to integrate     6                               [deepfakes/faceswap]\n",
       "feedback wanted       8                               [deepfakes/faceswap]\n",
       "...                 ...                                                ...\n",
       "TF2.x                 3                                   [Delta-ML/delta]\n",
       "Bug                  10                                   [Delta-ML/delta]\n",
       "Egs                   4                                   [Delta-ML/delta]\n",
       "document              3                                [chainer/chainercv]\n",
       "no-compat             1                                [chainer/chainercv]\n",
       "\n",
       "[622 rows x 2 columns]"
      ]
     },
     "execution_count": 102,
     "metadata": {},
     "output_type": "execute_result"
    }
   ],
   "source": [
    "df"
   ]
  },
  {
   "cell_type": "code",
   "execution_count": 103,
   "id": "06feb310-5cef-4c9a-bad3-f758406b8abf",
   "metadata": {},
   "outputs": [],
   "source": [
    "df = df.sort_values(by=\"count\", ascending=False)"
   ]
  },
  {
   "cell_type": "code",
   "execution_count": 104,
   "id": "140dd250-e070-43b9-8746-b8bee92e70a6",
   "metadata": {},
   "outputs": [
    {
     "data": {
      "text/html": [
       "<div>\n",
       "<style scoped>\n",
       "    .dataframe tbody tr th:only-of-type {\n",
       "        vertical-align: middle;\n",
       "    }\n",
       "\n",
       "    .dataframe tbody tr th {\n",
       "        vertical-align: top;\n",
       "    }\n",
       "\n",
       "    .dataframe thead th {\n",
       "        text-align: right;\n",
       "    }\n",
       "</style>\n",
       "<table border=\"1\" class=\"dataframe\">\n",
       "  <thead>\n",
       "    <tr style=\"text-align: right;\">\n",
       "      <th></th>\n",
       "      <th>count</th>\n",
       "      <th>rel_repo</th>\n",
       "    </tr>\n",
       "  </thead>\n",
       "  <tbody>\n",
       "    <tr>\n",
       "      <th>question</th>\n",
       "      <td>6607</td>\n",
       "      <td>[deepmipt/DeepPavlov, MrNothing/AI-Blocks, mic...</td>\n",
       "    </tr>\n",
       "    <tr>\n",
       "      <th>bug</th>\n",
       "      <td>4469</td>\n",
       "      <td>[deepmipt/DeepPavlov, tflearn/tflearn, MrNothi...</td>\n",
       "    </tr>\n",
       "    <tr>\n",
       "      <th>Stale</th>\n",
       "      <td>2563</td>\n",
       "      <td>[ultralytics/yolov5, Delta-ML/delta, IntelLabs...</td>\n",
       "    </tr>\n",
       "    <tr>\n",
       "      <th>enhancement</th>\n",
       "      <td>1612</td>\n",
       "      <td>[databricks/spark-deep-learning, deepmipt/Deep...</td>\n",
       "    </tr>\n",
       "    <tr>\n",
       "      <th>wontfix</th>\n",
       "      <td>1065</td>\n",
       "      <td>[arogozhnikov/einops, AaronJackson/vrn, mozill...</td>\n",
       "    </tr>\n",
       "    <tr>\n",
       "      <th>...</th>\n",
       "      <td>...</td>\n",
       "      <td>...</td>\n",
       "    </tr>\n",
       "    <tr>\n",
       "      <th>priority: low</th>\n",
       "      <td>1</td>\n",
       "      <td>[apache/tvm]</td>\n",
       "    </tr>\n",
       "    <tr>\n",
       "      <th>alps</th>\n",
       "      <td>1</td>\n",
       "      <td>[sql-machine-learning/sqlflow]</td>\n",
       "    </tr>\n",
       "    <tr>\n",
       "      <th>type: installation</th>\n",
       "      <td>1</td>\n",
       "      <td>[apache/tvm]</td>\n",
       "    </tr>\n",
       "    <tr>\n",
       "      <th>ffmpeg</th>\n",
       "      <td>1</td>\n",
       "      <td>[deezer/spleeter]</td>\n",
       "    </tr>\n",
       "    <tr>\n",
       "      <th>no-compat</th>\n",
       "      <td>1</td>\n",
       "      <td>[chainer/chainercv]</td>\n",
       "    </tr>\n",
       "  </tbody>\n",
       "</table>\n",
       "<p>622 rows × 2 columns</p>\n",
       "</div>"
      ],
      "text/plain": [
       "                   count                                           rel_repo\n",
       "question            6607  [deepmipt/DeepPavlov, MrNothing/AI-Blocks, mic...\n",
       "bug                 4469  [deepmipt/DeepPavlov, tflearn/tflearn, MrNothi...\n",
       "Stale               2563  [ultralytics/yolov5, Delta-ML/delta, IntelLabs...\n",
       "enhancement         1612  [databricks/spark-deep-learning, deepmipt/Deep...\n",
       "wontfix             1065  [arogozhnikov/einops, AaronJackson/vrn, mozill...\n",
       "...                  ...                                                ...\n",
       "priority: low          1                                       [apache/tvm]\n",
       "alps                   1                     [sql-machine-learning/sqlflow]\n",
       "type: installation     1                                       [apache/tvm]\n",
       "ffmpeg                 1                                  [deezer/spleeter]\n",
       "no-compat              1                                [chainer/chainercv]\n",
       "\n",
       "[622 rows x 2 columns]"
      ]
     },
     "execution_count": 104,
     "metadata": {},
     "output_type": "execute_result"
    }
   ],
   "source": [
    "df"
   ]
  },
  {
   "cell_type": "code",
   "execution_count": 105,
   "id": "6101c570-2fad-4daf-af49-570ed4de6df9",
   "metadata": {},
   "outputs": [],
   "source": [
    "df[\"frequency\"] = df[\"count\"] / df[\"count\"].sum()"
   ]
  },
  {
   "cell_type": "code",
   "execution_count": 106,
   "id": "69cbfa8f-6a93-493c-8ac4-cb6834e55372",
   "metadata": {},
   "outputs": [
    {
     "data": {
      "text/html": [
       "<div>\n",
       "<style scoped>\n",
       "    .dataframe tbody tr th:only-of-type {\n",
       "        vertical-align: middle;\n",
       "    }\n",
       "\n",
       "    .dataframe tbody tr th {\n",
       "        vertical-align: top;\n",
       "    }\n",
       "\n",
       "    .dataframe thead th {\n",
       "        text-align: right;\n",
       "    }\n",
       "</style>\n",
       "<table border=\"1\" class=\"dataframe\">\n",
       "  <thead>\n",
       "    <tr style=\"text-align: right;\">\n",
       "      <th></th>\n",
       "      <th>count</th>\n",
       "      <th>rel_repo</th>\n",
       "      <th>frequency</th>\n",
       "    </tr>\n",
       "  </thead>\n",
       "  <tbody>\n",
       "    <tr>\n",
       "      <th>question</th>\n",
       "      <td>6607</td>\n",
       "      <td>[deepmipt/DeepPavlov, MrNothing/AI-Blocks, mic...</td>\n",
       "      <td>0.17318</td>\n",
       "    </tr>\n",
       "    <tr>\n",
       "      <th>bug</th>\n",
       "      <td>4469</td>\n",
       "      <td>[deepmipt/DeepPavlov, tflearn/tflearn, MrNothi...</td>\n",
       "      <td>0.11714</td>\n",
       "    </tr>\n",
       "    <tr>\n",
       "      <th>Stale</th>\n",
       "      <td>2563</td>\n",
       "      <td>[ultralytics/yolov5, Delta-ML/delta, IntelLabs...</td>\n",
       "      <td>0.06718</td>\n",
       "    </tr>\n",
       "    <tr>\n",
       "      <th>enhancement</th>\n",
       "      <td>1612</td>\n",
       "      <td>[databricks/spark-deep-learning, deepmipt/Deep...</td>\n",
       "      <td>0.042253</td>\n",
       "    </tr>\n",
       "    <tr>\n",
       "      <th>wontfix</th>\n",
       "      <td>1065</td>\n",
       "      <td>[arogozhnikov/einops, AaronJackson/vrn, mozill...</td>\n",
       "      <td>0.027915</td>\n",
       "    </tr>\n",
       "    <tr>\n",
       "      <th>...</th>\n",
       "      <td>...</td>\n",
       "      <td>...</td>\n",
       "      <td>...</td>\n",
       "    </tr>\n",
       "    <tr>\n",
       "      <th>priority: low</th>\n",
       "      <td>1</td>\n",
       "      <td>[apache/tvm]</td>\n",
       "      <td>0.000026</td>\n",
       "    </tr>\n",
       "    <tr>\n",
       "      <th>alps</th>\n",
       "      <td>1</td>\n",
       "      <td>[sql-machine-learning/sqlflow]</td>\n",
       "      <td>0.000026</td>\n",
       "    </tr>\n",
       "    <tr>\n",
       "      <th>type: installation</th>\n",
       "      <td>1</td>\n",
       "      <td>[apache/tvm]</td>\n",
       "      <td>0.000026</td>\n",
       "    </tr>\n",
       "    <tr>\n",
       "      <th>ffmpeg</th>\n",
       "      <td>1</td>\n",
       "      <td>[deezer/spleeter]</td>\n",
       "      <td>0.000026</td>\n",
       "    </tr>\n",
       "    <tr>\n",
       "      <th>no-compat</th>\n",
       "      <td>1</td>\n",
       "      <td>[chainer/chainercv]</td>\n",
       "      <td>0.000026</td>\n",
       "    </tr>\n",
       "  </tbody>\n",
       "</table>\n",
       "<p>622 rows × 3 columns</p>\n",
       "</div>"
      ],
      "text/plain": [
       "                   count                                           rel_repo  \\\n",
       "question            6607  [deepmipt/DeepPavlov, MrNothing/AI-Blocks, mic...   \n",
       "bug                 4469  [deepmipt/DeepPavlov, tflearn/tflearn, MrNothi...   \n",
       "Stale               2563  [ultralytics/yolov5, Delta-ML/delta, IntelLabs...   \n",
       "enhancement         1612  [databricks/spark-deep-learning, deepmipt/Deep...   \n",
       "wontfix             1065  [arogozhnikov/einops, AaronJackson/vrn, mozill...   \n",
       "...                  ...                                                ...   \n",
       "priority: low          1                                       [apache/tvm]   \n",
       "alps                   1                     [sql-machine-learning/sqlflow]   \n",
       "type: installation     1                                       [apache/tvm]   \n",
       "ffmpeg                 1                                  [deezer/spleeter]   \n",
       "no-compat              1                                [chainer/chainercv]   \n",
       "\n",
       "                   frequency  \n",
       "question             0.17318  \n",
       "bug                  0.11714  \n",
       "Stale                0.06718  \n",
       "enhancement         0.042253  \n",
       "wontfix             0.027915  \n",
       "...                      ...  \n",
       "priority: low       0.000026  \n",
       "alps                0.000026  \n",
       "type: installation  0.000026  \n",
       "ffmpeg              0.000026  \n",
       "no-compat           0.000026  \n",
       "\n",
       "[622 rows x 3 columns]"
      ]
     },
     "execution_count": 106,
     "metadata": {},
     "output_type": "execute_result"
    }
   ],
   "source": [
    "df"
   ]
  },
  {
   "cell_type": "code",
   "execution_count": 107,
   "id": "4ecad0a2-5dee-47d9-bfbf-9c7a3736390c",
   "metadata": {},
   "outputs": [
    {
     "data": {
      "text/plain": [
       "['count', 'rel_repo', 'frequency']"
      ]
     },
     "execution_count": 107,
     "metadata": {},
     "output_type": "execute_result"
    }
   ],
   "source": [
    "list(df.columns)"
   ]
  },
  {
   "cell_type": "code",
   "execution_count": 108,
   "id": "895d7534-de65-44a1-8531-5a3a6ab90bb0",
   "metadata": {},
   "outputs": [
    {
     "data": {
      "text/plain": [
       "['frequency', 'count', 'rel_repo']"
      ]
     },
     "execution_count": 108,
     "metadata": {},
     "output_type": "execute_result"
    }
   ],
   "source": [
    "col = list(df.columns)\n",
    "col[0],col[1], col[2] = col[2], col[0], col[1]\n",
    "col\n",
    "df=df.reindex(columns=col)"
   ]
  },
  {
   "cell_type": "code",
   "execution_count": 109,
   "id": "911353e6-506b-4879-954f-473d05632f08",
   "metadata": {},
   "outputs": [
    {
     "data": {
      "text/html": [
       "<div>\n",
       "<style scoped>\n",
       "    .dataframe tbody tr th:only-of-type {\n",
       "        vertical-align: middle;\n",
       "    }\n",
       "\n",
       "    .dataframe tbody tr th {\n",
       "        vertical-align: top;\n",
       "    }\n",
       "\n",
       "    .dataframe thead th {\n",
       "        text-align: right;\n",
       "    }\n",
       "</style>\n",
       "<table border=\"1\" class=\"dataframe\">\n",
       "  <thead>\n",
       "    <tr style=\"text-align: right;\">\n",
       "      <th></th>\n",
       "      <th>frequency</th>\n",
       "      <th>count</th>\n",
       "      <th>rel_repo</th>\n",
       "    </tr>\n",
       "  </thead>\n",
       "  <tbody>\n",
       "    <tr>\n",
       "      <th>question</th>\n",
       "      <td>0.17318</td>\n",
       "      <td>6607</td>\n",
       "      <td>[deepmipt/DeepPavlov, MrNothing/AI-Blocks, mic...</td>\n",
       "    </tr>\n",
       "    <tr>\n",
       "      <th>bug</th>\n",
       "      <td>0.11714</td>\n",
       "      <td>4469</td>\n",
       "      <td>[deepmipt/DeepPavlov, tflearn/tflearn, MrNothi...</td>\n",
       "    </tr>\n",
       "    <tr>\n",
       "      <th>Stale</th>\n",
       "      <td>0.06718</td>\n",
       "      <td>2563</td>\n",
       "      <td>[ultralytics/yolov5, Delta-ML/delta, IntelLabs...</td>\n",
       "    </tr>\n",
       "    <tr>\n",
       "      <th>enhancement</th>\n",
       "      <td>0.042253</td>\n",
       "      <td>1612</td>\n",
       "      <td>[databricks/spark-deep-learning, deepmipt/Deep...</td>\n",
       "    </tr>\n",
       "    <tr>\n",
       "      <th>wontfix</th>\n",
       "      <td>0.027915</td>\n",
       "      <td>1065</td>\n",
       "      <td>[arogozhnikov/einops, AaronJackson/vrn, mozill...</td>\n",
       "    </tr>\n",
       "    <tr>\n",
       "      <th>...</th>\n",
       "      <td>...</td>\n",
       "      <td>...</td>\n",
       "      <td>...</td>\n",
       "    </tr>\n",
       "    <tr>\n",
       "      <th>priority: low</th>\n",
       "      <td>0.000026</td>\n",
       "      <td>1</td>\n",
       "      <td>[apache/tvm]</td>\n",
       "    </tr>\n",
       "    <tr>\n",
       "      <th>alps</th>\n",
       "      <td>0.000026</td>\n",
       "      <td>1</td>\n",
       "      <td>[sql-machine-learning/sqlflow]</td>\n",
       "    </tr>\n",
       "    <tr>\n",
       "      <th>type: installation</th>\n",
       "      <td>0.000026</td>\n",
       "      <td>1</td>\n",
       "      <td>[apache/tvm]</td>\n",
       "    </tr>\n",
       "    <tr>\n",
       "      <th>ffmpeg</th>\n",
       "      <td>0.000026</td>\n",
       "      <td>1</td>\n",
       "      <td>[deezer/spleeter]</td>\n",
       "    </tr>\n",
       "    <tr>\n",
       "      <th>no-compat</th>\n",
       "      <td>0.000026</td>\n",
       "      <td>1</td>\n",
       "      <td>[chainer/chainercv]</td>\n",
       "    </tr>\n",
       "  </tbody>\n",
       "</table>\n",
       "<p>622 rows × 3 columns</p>\n",
       "</div>"
      ],
      "text/plain": [
       "                   frequency count  \\\n",
       "question             0.17318  6607   \n",
       "bug                  0.11714  4469   \n",
       "Stale                0.06718  2563   \n",
       "enhancement         0.042253  1612   \n",
       "wontfix             0.027915  1065   \n",
       "...                      ...   ...   \n",
       "priority: low       0.000026     1   \n",
       "alps                0.000026     1   \n",
       "type: installation  0.000026     1   \n",
       "ffmpeg              0.000026     1   \n",
       "no-compat           0.000026     1   \n",
       "\n",
       "                                                             rel_repo  \n",
       "question            [deepmipt/DeepPavlov, MrNothing/AI-Blocks, mic...  \n",
       "bug                 [deepmipt/DeepPavlov, tflearn/tflearn, MrNothi...  \n",
       "Stale               [ultralytics/yolov5, Delta-ML/delta, IntelLabs...  \n",
       "enhancement         [databricks/spark-deep-learning, deepmipt/Deep...  \n",
       "wontfix             [arogozhnikov/einops, AaronJackson/vrn, mozill...  \n",
       "...                                                               ...  \n",
       "priority: low                                            [apache/tvm]  \n",
       "alps                                   [sql-machine-learning/sqlflow]  \n",
       "type: installation                                       [apache/tvm]  \n",
       "ffmpeg                                              [deezer/spleeter]  \n",
       "no-compat                                         [chainer/chainercv]  \n",
       "\n",
       "[622 rows x 3 columns]"
      ]
     },
     "execution_count": 109,
     "metadata": {},
     "output_type": "execute_result"
    }
   ],
   "source": [
    "df"
   ]
  },
  {
   "cell_type": "code",
   "execution_count": 110,
   "id": "8a12859c-9db0-4481-a352-a4aa0d40a0cd",
   "metadata": {},
   "outputs": [],
   "source": [
    "df.to_excel(\"repo_label_counts_by_issue.xlsx\")"
   ]
  },
  {
   "cell_type": "code",
   "execution_count": 111,
   "id": "c90e4e41-8ef7-46a3-9df3-cf0fff8178a0",
   "metadata": {},
   "outputs": [
    {
     "data": {
      "text/plain": [
       "46003"
      ]
     },
     "execution_count": 111,
     "metadata": {},
     "output_type": "execute_result"
    }
   ],
   "source": [
    "project_path = \"./issue_data\" \n",
    "issue_path = os.path.join(project_path, \"issues\")       \n",
    "\n",
    "label_dict = {}\n",
    "# count the number of issues with label\n",
    "issue_with_label = 0\n",
    "issue_count = 0\n",
    "\n",
    "for i in range(len(repo)):\n",
    "    repo_name = repo.iat[i, 0]\n",
    "    \n",
    "    # generate repo dir\n",
    "    repo_dir_path = os.path.join(issue_path, repo_name.split(r'/')[1])\n",
    "    \n",
    "    all_files = list(os.listdir(repo_dir_path))\n",
    "    all_files.sort(key=lambda x: int(x.split(r'.')[0]))\n",
    "    \n",
    "    for file in all_files:\n",
    "        with open(os.path.join(repo_dir_path, file), 'r') as f:\n",
    "            dic = json.load(f)\n",
    "    \n",
    "            # traverse all issues\n",
    "            for item in dic[\"items\"]:\n",
    "                issue_labels = item.get(\"labels\")\n",
    "                \n",
    "                if len(issue_labels) == 0:\n",
    "                    pass\n",
    "                else:\n",
    "                    issue_with_label += 1\n",
    "                    for label in issue_labels:\n",
    "                        name = label.get(\"name\")\n",
    "                        if name not in label_dict: # meet label in the first time\n",
    "                            label_dict[name] = {\n",
    "                                \"count\": 1,\n",
    "                                \"rel_repo\" : {repo_name}\n",
    "                            }\n",
    "                        else:\n",
    "                            if repo_name not in label_dict[name][\"rel_repo\"]:\n",
    "                                label_dict[name][\"count\"] = label_dict[name][\"count\"] + 1\n",
    "                            label_dict[name][\"rel_repo\"].add(repo_name)\n",
    "                        \n",
    "                issue_count += 1\n",
    "    \n",
    "    \n",
    "for key in label_dict.keys():\n",
    "    label_dict[key][\"rel_repo\"] = list(label_dict[key][\"rel_repo\"])\n",
    "    \n",
    "\n",
    "with open(\"test.json\", \"w\") as w:\n",
    "    w.write(json.dumps(label_dict))\n",
    "#     # save issue with comments to new dirs\n",
    "#     new_repo_dir_path = make_repo_dirs(project_path, \"issue_labels\", repo_name.split(r'/')[1])\n",
    "#     with open(os.path.join(new_repo_dir_path, \"labels.json\"), \"w\") as w:\n",
    "#         w.write(json.dumps({\n",
    "#             \"full_name\" : repo_name,\n",
    "#             \"issue_labels\" : label_dict,\n",
    "#             \"issue_count\": issue_count,\n",
    "#             \"issue_with_label\" : issue_with_label,\n",
    "#         }))"
   ]
  },
  {
   "cell_type": "code",
   "execution_count": null,
   "id": "796f29f6-3c4e-42e9-8798-94c8d8856bdd",
   "metadata": {},
   "outputs": [],
   "source": []
  },
  {
   "cell_type": "code",
   "execution_count": 112,
   "id": "b8c308cf-14f7-41ea-a525-e076fb23eafc",
   "metadata": {},
   "outputs": [],
   "source": [
    "df = pd.DataFrame(label_dict)\n",
    "df = df.T"
   ]
  },
  {
   "cell_type": "code",
   "execution_count": 113,
   "id": "f6036b36-7b91-42ab-bc03-f35abf9d9493",
   "metadata": {},
   "outputs": [
    {
     "data": {
      "text/html": [
       "<div>\n",
       "<style scoped>\n",
       "    .dataframe tbody tr th:only-of-type {\n",
       "        vertical-align: middle;\n",
       "    }\n",
       "\n",
       "    .dataframe tbody tr th {\n",
       "        vertical-align: top;\n",
       "    }\n",
       "\n",
       "    .dataframe thead th {\n",
       "        text-align: right;\n",
       "    }\n",
       "</style>\n",
       "<table border=\"1\" class=\"dataframe\">\n",
       "  <thead>\n",
       "    <tr style=\"text-align: right;\">\n",
       "      <th></th>\n",
       "      <th>count</th>\n",
       "      <th>rel_repo</th>\n",
       "    </tr>\n",
       "  </thead>\n",
       "  <tbody>\n",
       "    <tr>\n",
       "      <th>feature</th>\n",
       "      <td>8</td>\n",
       "      <td>[chainer/chainercv, isl-org/OpenBot, deepfakes...</td>\n",
       "    </tr>\n",
       "    <tr>\n",
       "      <th>bug</th>\n",
       "      <td>47</td>\n",
       "      <td>[deepmipt/DeepPavlov, tflearn/tflearn, MrNothi...</td>\n",
       "    </tr>\n",
       "    <tr>\n",
       "      <th>AMD</th>\n",
       "      <td>1</td>\n",
       "      <td>[deepfakes/faceswap]</td>\n",
       "    </tr>\n",
       "    <tr>\n",
       "      <th>code to integrate</th>\n",
       "      <td>1</td>\n",
       "      <td>[deepfakes/faceswap]</td>\n",
       "    </tr>\n",
       "    <tr>\n",
       "      <th>feedback wanted</th>\n",
       "      <td>1</td>\n",
       "      <td>[deepfakes/faceswap]</td>\n",
       "    </tr>\n",
       "    <tr>\n",
       "      <th>...</th>\n",
       "      <td>...</td>\n",
       "      <td>...</td>\n",
       "    </tr>\n",
       "    <tr>\n",
       "      <th>TF2.x</th>\n",
       "      <td>1</td>\n",
       "      <td>[Delta-ML/delta]</td>\n",
       "    </tr>\n",
       "    <tr>\n",
       "      <th>Bug</th>\n",
       "      <td>1</td>\n",
       "      <td>[Delta-ML/delta]</td>\n",
       "    </tr>\n",
       "    <tr>\n",
       "      <th>Egs</th>\n",
       "      <td>1</td>\n",
       "      <td>[Delta-ML/delta]</td>\n",
       "    </tr>\n",
       "    <tr>\n",
       "      <th>document</th>\n",
       "      <td>1</td>\n",
       "      <td>[chainer/chainercv]</td>\n",
       "    </tr>\n",
       "    <tr>\n",
       "      <th>no-compat</th>\n",
       "      <td>1</td>\n",
       "      <td>[chainer/chainercv]</td>\n",
       "    </tr>\n",
       "  </tbody>\n",
       "</table>\n",
       "<p>622 rows × 2 columns</p>\n",
       "</div>"
      ],
      "text/plain": [
       "                  count                                           rel_repo\n",
       "feature               8  [chainer/chainercv, isl-org/OpenBot, deepfakes...\n",
       "bug                  47  [deepmipt/DeepPavlov, tflearn/tflearn, MrNothi...\n",
       "AMD                   1                               [deepfakes/faceswap]\n",
       "code to integrate     1                               [deepfakes/faceswap]\n",
       "feedback wanted       1                               [deepfakes/faceswap]\n",
       "...                 ...                                                ...\n",
       "TF2.x                 1                                   [Delta-ML/delta]\n",
       "Bug                   1                                   [Delta-ML/delta]\n",
       "Egs                   1                                   [Delta-ML/delta]\n",
       "document              1                                [chainer/chainercv]\n",
       "no-compat             1                                [chainer/chainercv]\n",
       "\n",
       "[622 rows x 2 columns]"
      ]
     },
     "execution_count": 113,
     "metadata": {},
     "output_type": "execute_result"
    }
   ],
   "source": [
    "df"
   ]
  },
  {
   "cell_type": "code",
   "execution_count": 114,
   "id": "9e47edec-120c-4eae-a80b-81296dae94ae",
   "metadata": {},
   "outputs": [],
   "source": [
    "df = df.sort_values(by=\"count\", ascending=False)"
   ]
  },
  {
   "cell_type": "code",
   "execution_count": 115,
   "id": "e70674fa-8b61-46b6-a93f-3fb5eea9eaa2",
   "metadata": {},
   "outputs": [
    {
     "data": {
      "text/html": [
       "<div>\n",
       "<style scoped>\n",
       "    .dataframe tbody tr th:only-of-type {\n",
       "        vertical-align: middle;\n",
       "    }\n",
       "\n",
       "    .dataframe tbody tr th {\n",
       "        vertical-align: top;\n",
       "    }\n",
       "\n",
       "    .dataframe thead th {\n",
       "        text-align: right;\n",
       "    }\n",
       "</style>\n",
       "<table border=\"1\" class=\"dataframe\">\n",
       "  <thead>\n",
       "    <tr style=\"text-align: right;\">\n",
       "      <th></th>\n",
       "      <th>count</th>\n",
       "      <th>rel_repo</th>\n",
       "    </tr>\n",
       "  </thead>\n",
       "  <tbody>\n",
       "    <tr>\n",
       "      <th>bug</th>\n",
       "      <td>47</td>\n",
       "      <td>[deepmipt/DeepPavlov, tflearn/tflearn, MrNothi...</td>\n",
       "    </tr>\n",
       "    <tr>\n",
       "      <th>enhancement</th>\n",
       "      <td>36</td>\n",
       "      <td>[databricks/spark-deep-learning, deepmipt/Deep...</td>\n",
       "    </tr>\n",
       "    <tr>\n",
       "      <th>question</th>\n",
       "      <td>35</td>\n",
       "      <td>[deepmipt/DeepPavlov, MrNothing/AI-Blocks, mic...</td>\n",
       "    </tr>\n",
       "    <tr>\n",
       "      <th>help wanted</th>\n",
       "      <td>28</td>\n",
       "      <td>[deepmipt/DeepPavlov, tflearn/tflearn, deepfak...</td>\n",
       "    </tr>\n",
       "    <tr>\n",
       "      <th>duplicate</th>\n",
       "      <td>19</td>\n",
       "      <td>[microsoft/AirSim, deezer/spleeter, IntelLabs/...</td>\n",
       "    </tr>\n",
       "    <tr>\n",
       "      <th>...</th>\n",
       "      <td>...</td>\n",
       "      <td>...</td>\n",
       "    </tr>\n",
       "    <tr>\n",
       "      <th>doc-update-done</th>\n",
       "      <td>1</td>\n",
       "      <td>[microsoft/AirSim]</td>\n",
       "    </tr>\n",
       "    <tr>\n",
       "      <th>ros</th>\n",
       "      <td>1</td>\n",
       "      <td>[microsoft/AirSim]</td>\n",
       "    </tr>\n",
       "    <tr>\n",
       "      <th>unity</th>\n",
       "      <td>1</td>\n",
       "      <td>[microsoft/AirSim]</td>\n",
       "    </tr>\n",
       "    <tr>\n",
       "      <th>lidar</th>\n",
       "      <td>1</td>\n",
       "      <td>[microsoft/AirSim]</td>\n",
       "    </tr>\n",
       "    <tr>\n",
       "      <th>no-compat</th>\n",
       "      <td>1</td>\n",
       "      <td>[chainer/chainercv]</td>\n",
       "    </tr>\n",
       "  </tbody>\n",
       "</table>\n",
       "<p>622 rows × 2 columns</p>\n",
       "</div>"
      ],
      "text/plain": [
       "                count                                           rel_repo\n",
       "bug                47  [deepmipt/DeepPavlov, tflearn/tflearn, MrNothi...\n",
       "enhancement        36  [databricks/spark-deep-learning, deepmipt/Deep...\n",
       "question           35  [deepmipt/DeepPavlov, MrNothing/AI-Blocks, mic...\n",
       "help wanted        28  [deepmipt/DeepPavlov, tflearn/tflearn, deepfak...\n",
       "duplicate          19  [microsoft/AirSim, deezer/spleeter, IntelLabs/...\n",
       "...               ...                                                ...\n",
       "doc-update-done     1                                 [microsoft/AirSim]\n",
       "ros                 1                                 [microsoft/AirSim]\n",
       "unity               1                                 [microsoft/AirSim]\n",
       "lidar               1                                 [microsoft/AirSim]\n",
       "no-compat           1                                [chainer/chainercv]\n",
       "\n",
       "[622 rows x 2 columns]"
      ]
     },
     "execution_count": 115,
     "metadata": {},
     "output_type": "execute_result"
    }
   ],
   "source": [
    "df"
   ]
  },
  {
   "cell_type": "code",
   "execution_count": 116,
   "id": "14e72c26-a7f2-47b8-a4fb-5070cbb7297b",
   "metadata": {},
   "outputs": [],
   "source": [
    "df[\"frequency\"] = df[\"count\"] / df[\"count\"].sum()"
   ]
  },
  {
   "cell_type": "code",
   "execution_count": 117,
   "id": "961f5da4-87e1-4c52-8c55-cec25d515535",
   "metadata": {},
   "outputs": [
    {
     "data": {
      "text/html": [
       "<div>\n",
       "<style scoped>\n",
       "    .dataframe tbody tr th:only-of-type {\n",
       "        vertical-align: middle;\n",
       "    }\n",
       "\n",
       "    .dataframe tbody tr th {\n",
       "        vertical-align: top;\n",
       "    }\n",
       "\n",
       "    .dataframe thead th {\n",
       "        text-align: right;\n",
       "    }\n",
       "</style>\n",
       "<table border=\"1\" class=\"dataframe\">\n",
       "  <thead>\n",
       "    <tr style=\"text-align: right;\">\n",
       "      <th></th>\n",
       "      <th>count</th>\n",
       "      <th>rel_repo</th>\n",
       "      <th>frequency</th>\n",
       "    </tr>\n",
       "  </thead>\n",
       "  <tbody>\n",
       "    <tr>\n",
       "      <th>bug</th>\n",
       "      <td>47</td>\n",
       "      <td>[deepmipt/DeepPavlov, tflearn/tflearn, MrNothi...</td>\n",
       "      <td>0.050375</td>\n",
       "    </tr>\n",
       "    <tr>\n",
       "      <th>enhancement</th>\n",
       "      <td>36</td>\n",
       "      <td>[databricks/spark-deep-learning, deepmipt/Deep...</td>\n",
       "      <td>0.038585</td>\n",
       "    </tr>\n",
       "    <tr>\n",
       "      <th>question</th>\n",
       "      <td>35</td>\n",
       "      <td>[deepmipt/DeepPavlov, MrNothing/AI-Blocks, mic...</td>\n",
       "      <td>0.037513</td>\n",
       "    </tr>\n",
       "    <tr>\n",
       "      <th>help wanted</th>\n",
       "      <td>28</td>\n",
       "      <td>[deepmipt/DeepPavlov, tflearn/tflearn, deepfak...</td>\n",
       "      <td>0.030011</td>\n",
       "    </tr>\n",
       "    <tr>\n",
       "      <th>duplicate</th>\n",
       "      <td>19</td>\n",
       "      <td>[microsoft/AirSim, deezer/spleeter, IntelLabs/...</td>\n",
       "      <td>0.020364</td>\n",
       "    </tr>\n",
       "    <tr>\n",
       "      <th>...</th>\n",
       "      <td>...</td>\n",
       "      <td>...</td>\n",
       "      <td>...</td>\n",
       "    </tr>\n",
       "    <tr>\n",
       "      <th>doc-update-done</th>\n",
       "      <td>1</td>\n",
       "      <td>[microsoft/AirSim]</td>\n",
       "      <td>0.001072</td>\n",
       "    </tr>\n",
       "    <tr>\n",
       "      <th>ros</th>\n",
       "      <td>1</td>\n",
       "      <td>[microsoft/AirSim]</td>\n",
       "      <td>0.001072</td>\n",
       "    </tr>\n",
       "    <tr>\n",
       "      <th>unity</th>\n",
       "      <td>1</td>\n",
       "      <td>[microsoft/AirSim]</td>\n",
       "      <td>0.001072</td>\n",
       "    </tr>\n",
       "    <tr>\n",
       "      <th>lidar</th>\n",
       "      <td>1</td>\n",
       "      <td>[microsoft/AirSim]</td>\n",
       "      <td>0.001072</td>\n",
       "    </tr>\n",
       "    <tr>\n",
       "      <th>no-compat</th>\n",
       "      <td>1</td>\n",
       "      <td>[chainer/chainercv]</td>\n",
       "      <td>0.001072</td>\n",
       "    </tr>\n",
       "  </tbody>\n",
       "</table>\n",
       "<p>622 rows × 3 columns</p>\n",
       "</div>"
      ],
      "text/plain": [
       "                count                                           rel_repo  \\\n",
       "bug                47  [deepmipt/DeepPavlov, tflearn/tflearn, MrNothi...   \n",
       "enhancement        36  [databricks/spark-deep-learning, deepmipt/Deep...   \n",
       "question           35  [deepmipt/DeepPavlov, MrNothing/AI-Blocks, mic...   \n",
       "help wanted        28  [deepmipt/DeepPavlov, tflearn/tflearn, deepfak...   \n",
       "duplicate          19  [microsoft/AirSim, deezer/spleeter, IntelLabs/...   \n",
       "...               ...                                                ...   \n",
       "doc-update-done     1                                 [microsoft/AirSim]   \n",
       "ros                 1                                 [microsoft/AirSim]   \n",
       "unity               1                                 [microsoft/AirSim]   \n",
       "lidar               1                                 [microsoft/AirSim]   \n",
       "no-compat           1                                [chainer/chainercv]   \n",
       "\n",
       "                frequency  \n",
       "bug              0.050375  \n",
       "enhancement      0.038585  \n",
       "question         0.037513  \n",
       "help wanted      0.030011  \n",
       "duplicate        0.020364  \n",
       "...                   ...  \n",
       "doc-update-done  0.001072  \n",
       "ros              0.001072  \n",
       "unity            0.001072  \n",
       "lidar            0.001072  \n",
       "no-compat        0.001072  \n",
       "\n",
       "[622 rows x 3 columns]"
      ]
     },
     "execution_count": 117,
     "metadata": {},
     "output_type": "execute_result"
    }
   ],
   "source": [
    "df"
   ]
  },
  {
   "cell_type": "code",
   "execution_count": 118,
   "id": "6a8b73b8-81bd-4191-9eef-483132221eec",
   "metadata": {},
   "outputs": [
    {
     "data": {
      "text/plain": [
       "['count', 'rel_repo', 'frequency']"
      ]
     },
     "execution_count": 118,
     "metadata": {},
     "output_type": "execute_result"
    }
   ],
   "source": [
    "list(df.columns)"
   ]
  },
  {
   "cell_type": "code",
   "execution_count": 119,
   "id": "ce27b78c-fbe6-4004-ba2d-00005dcaccab",
   "metadata": {},
   "outputs": [
    {
     "data": {
      "text/plain": [
       "['frequency', 'count', 'rel_repo']"
      ]
     },
     "execution_count": 119,
     "metadata": {},
     "output_type": "execute_result"
    }
   ],
   "source": [
    "col = list(df.columns)\n",
    "col[0],col[1], col[2] = col[2], col[0], col[1]\n",
    "col\n",
    "df=df.reindex(columns=col)"
   ]
  },
  {
   "cell_type": "code",
   "execution_count": 120,
   "id": "9ed166cb-e816-4c2d-b99a-2205a8a27694",
   "metadata": {},
   "outputs": [
    {
     "data": {
      "text/html": [
       "<div>\n",
       "<style scoped>\n",
       "    .dataframe tbody tr th:only-of-type {\n",
       "        vertical-align: middle;\n",
       "    }\n",
       "\n",
       "    .dataframe tbody tr th {\n",
       "        vertical-align: top;\n",
       "    }\n",
       "\n",
       "    .dataframe thead th {\n",
       "        text-align: right;\n",
       "    }\n",
       "</style>\n",
       "<table border=\"1\" class=\"dataframe\">\n",
       "  <thead>\n",
       "    <tr style=\"text-align: right;\">\n",
       "      <th></th>\n",
       "      <th>frequency</th>\n",
       "      <th>count</th>\n",
       "      <th>rel_repo</th>\n",
       "    </tr>\n",
       "  </thead>\n",
       "  <tbody>\n",
       "    <tr>\n",
       "      <th>bug</th>\n",
       "      <td>0.050375</td>\n",
       "      <td>47</td>\n",
       "      <td>[deepmipt/DeepPavlov, tflearn/tflearn, MrNothi...</td>\n",
       "    </tr>\n",
       "    <tr>\n",
       "      <th>enhancement</th>\n",
       "      <td>0.038585</td>\n",
       "      <td>36</td>\n",
       "      <td>[databricks/spark-deep-learning, deepmipt/Deep...</td>\n",
       "    </tr>\n",
       "    <tr>\n",
       "      <th>question</th>\n",
       "      <td>0.037513</td>\n",
       "      <td>35</td>\n",
       "      <td>[deepmipt/DeepPavlov, MrNothing/AI-Blocks, mic...</td>\n",
       "    </tr>\n",
       "    <tr>\n",
       "      <th>help wanted</th>\n",
       "      <td>0.030011</td>\n",
       "      <td>28</td>\n",
       "      <td>[deepmipt/DeepPavlov, tflearn/tflearn, deepfak...</td>\n",
       "    </tr>\n",
       "    <tr>\n",
       "      <th>duplicate</th>\n",
       "      <td>0.020364</td>\n",
       "      <td>19</td>\n",
       "      <td>[microsoft/AirSim, deezer/spleeter, IntelLabs/...</td>\n",
       "    </tr>\n",
       "    <tr>\n",
       "      <th>...</th>\n",
       "      <td>...</td>\n",
       "      <td>...</td>\n",
       "      <td>...</td>\n",
       "    </tr>\n",
       "    <tr>\n",
       "      <th>doc-update-done</th>\n",
       "      <td>0.001072</td>\n",
       "      <td>1</td>\n",
       "      <td>[microsoft/AirSim]</td>\n",
       "    </tr>\n",
       "    <tr>\n",
       "      <th>ros</th>\n",
       "      <td>0.001072</td>\n",
       "      <td>1</td>\n",
       "      <td>[microsoft/AirSim]</td>\n",
       "    </tr>\n",
       "    <tr>\n",
       "      <th>unity</th>\n",
       "      <td>0.001072</td>\n",
       "      <td>1</td>\n",
       "      <td>[microsoft/AirSim]</td>\n",
       "    </tr>\n",
       "    <tr>\n",
       "      <th>lidar</th>\n",
       "      <td>0.001072</td>\n",
       "      <td>1</td>\n",
       "      <td>[microsoft/AirSim]</td>\n",
       "    </tr>\n",
       "    <tr>\n",
       "      <th>no-compat</th>\n",
       "      <td>0.001072</td>\n",
       "      <td>1</td>\n",
       "      <td>[chainer/chainercv]</td>\n",
       "    </tr>\n",
       "  </tbody>\n",
       "</table>\n",
       "<p>622 rows × 3 columns</p>\n",
       "</div>"
      ],
      "text/plain": [
       "                frequency count  \\\n",
       "bug              0.050375    47   \n",
       "enhancement      0.038585    36   \n",
       "question         0.037513    35   \n",
       "help wanted      0.030011    28   \n",
       "duplicate        0.020364    19   \n",
       "...                   ...   ...   \n",
       "doc-update-done  0.001072     1   \n",
       "ros              0.001072     1   \n",
       "unity            0.001072     1   \n",
       "lidar            0.001072     1   \n",
       "no-compat        0.001072     1   \n",
       "\n",
       "                                                          rel_repo  \n",
       "bug              [deepmipt/DeepPavlov, tflearn/tflearn, MrNothi...  \n",
       "enhancement      [databricks/spark-deep-learning, deepmipt/Deep...  \n",
       "question         [deepmipt/DeepPavlov, MrNothing/AI-Blocks, mic...  \n",
       "help wanted      [deepmipt/DeepPavlov, tflearn/tflearn, deepfak...  \n",
       "duplicate        [microsoft/AirSim, deezer/spleeter, IntelLabs/...  \n",
       "...                                                            ...  \n",
       "doc-update-done                                 [microsoft/AirSim]  \n",
       "ros                                             [microsoft/AirSim]  \n",
       "unity                                           [microsoft/AirSim]  \n",
       "lidar                                           [microsoft/AirSim]  \n",
       "no-compat                                      [chainer/chainercv]  \n",
       "\n",
       "[622 rows x 3 columns]"
      ]
     },
     "execution_count": 120,
     "metadata": {},
     "output_type": "execute_result"
    }
   ],
   "source": [
    "df"
   ]
  },
  {
   "cell_type": "code",
   "execution_count": 121,
   "id": "d751f3b3-a53c-4372-b7db-e9c9bb406290",
   "metadata": {},
   "outputs": [],
   "source": [
    "df.to_excel(\"repo_label_counts_by_project.xlsx\")"
   ]
  },
  {
   "cell_type": "code",
   "execution_count": null,
   "id": "8253e7c5-0247-4671-968c-0a53d63c0a8b",
   "metadata": {},
   "outputs": [],
   "source": []
  }
 ],
 "metadata": {
  "kernelspec": {
   "display_name": "Python 3",
   "language": "python",
   "name": "python3"
  },
  "language_info": {
   "codemirror_mode": {
    "name": "ipython",
    "version": 3
   },
   "file_extension": ".py",
   "mimetype": "text/x-python",
   "name": "python",
   "nbconvert_exporter": "python",
   "pygments_lexer": "ipython3",
   "version": "3.8.8"
  }
 },
 "nbformat": 4,
 "nbformat_minor": 5
}
